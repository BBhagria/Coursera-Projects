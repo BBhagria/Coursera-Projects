{
 "cells": [
  {
   "cell_type": "markdown",
   "metadata": {
    "cell_id": "00000-e8616331-6ad7-4760-80f0-31f30bca28bc",
    "deepnote_cell_type": "markdown",
    "deepnote_to_be_reexecuted": true,
    "source_hash": "7993fadf",
    "tags": []
   },
   "source": [
    "# UMichigan Applied Plotting, Week 4 Assignment\n",
    "\n",
    "In this report we analyze [...] in Ann Arbor, MI, as compared to statewide statistics. In order to study similar date ranges (1970–2010), we had to resort to data from Washtenaw county, of which Ann Arbor is the seat. This approximation seems to be acceptable: the population of the Ann Arbor metropolitan area was 306,022 in 2010; the same year, the county reported a population of 344,791—a difference of 11.2%.\n",
    "\n",
    "## Datasets source\n",
    "Datasets were downloaded from the Federal Reserve Bank, St. Louis website. Unfortunately, the website hides the actual URL for the file, so we can only list links to pages from which data can be downloaded (manually or with rather sophisticated web scraping). Nice integration of projects, WTF! For the win!\n",
    "- City/county-level data\n",
    "    - [Wasthenaw county population](https://fred.stlouisfed.org/series/MIWASH1POP)\n",
    "    - [Ann Arbor, MI mean per capita annual income](https://fred.stlouisfed.org/series/ANNA426PCPI)\n",
    "    - [Ann Arbor, MI house pricing index](https://fred.stlouisfed.org/series/ATNHPIUS11460Q)\n",
    "- State-level data\n",
    "    - [Michigan population](https://fred.stlouisfed.org/series/MIWASH1POP)\n",
    "    - [Michigan mean per capita annual income](https://fred.stlouisfed.org/series/ANNA426PCPI)\n",
    "    - [Michigan house pricing index](https://fred.stlouisfed.org/series/ATNHPIUS11460Q)"
   ]
  },
  {
   "cell_type": "code",
   "execution_count": 1,
   "metadata": {
    "cell_id": "00001-7176a3b2-dd42-48ed-b3fb-8e95392a2461",
    "deepnote_cell_type": "code",
    "deepnote_to_be_reexecuted": false,
    "execution_millis": 899,
    "execution_start": 1617381526589,
    "source_hash": "3c3f4eed",
    "tags": []
   },
   "outputs": [],
   "source": [
    "import numpy as np\n",
    "import pandas as pd\n",
    "import matplotlib.pyplot as plt\n",
    "from matplotlib import ticker as tck\n",
    "from matplotlib import dates as mdates\n",
    "from matplotlib.lines import Line2D as Line\n",
    "import seaborn as sns\n",
    "\n",
    "%matplotlib widget"
   ]
  },
  {
   "cell_type": "code",
   "execution_count": 2,
   "metadata": {
    "cell_id": "00003-a168d195-ac36-48b4-b75c-67587ac14c2b",
    "deepnote_cell_type": "code",
    "deepnote_to_be_reexecuted": false,
    "execution_millis": 3,
    "execution_start": 1617381527490,
    "is_code_hidden": false,
    "source_hash": "645b4064",
    "tags": []
   },
   "outputs": [],
   "source": [
    "# This cell ignored because of unavailability of direct file URLs.\n",
    "\n",
    "#urls = []\n",
    "#\n",
    "## Check if data files exist\n",
    "#datafiles = [\"aa_population.csv\", \"aa_income.csv\", \"aa_prices.csv\"]\n",
    "#\n",
    "#datapaths = [path.Path(onefile) for onefile in datafiles]\n",
    "#\n",
    "#available = [item.exists() for item in datapaths]\n",
    "#\n",
    "#files = {x: y for x in datapaths for y in available}\n",
    "#\n",
    "#print(files)\n",
    "#\n",
    "#for item in files:\n",
    "#    if not item:\n",
    "#        print(\"Dangit\")"
   ]
  },
  {
   "cell_type": "markdown",
   "metadata": {
    "cell_id": "00003-13212898-3c0c-4110-b9b5-c04fb89c35f6",
    "deepnote_cell_type": "markdown",
    "deepnote_to_be_reexecuted": true,
    "execution_millis": 13,
    "source_hash": "59b36359",
    "tags": []
   },
   "source": [
    "## Data Processing \n",
    "\n",
    "We define standard prefixes and variable (AKA _column_) names for the dataframes we'll be creating. Then, we loop through prefixes (`aa_` for Ann Arbor, `mi_` for Michigan state) and then through column names, reading data from the CSV files. This results in 3 dataframes for each entity. These DFs are indexed by the date of measurements, and their unique column is named after one of the predefined variable `names`."
   ]
  },
  {
   "cell_type": "code",
   "execution_count": 3,
   "metadata": {
    "cell_id": "00004-d21cf354-d4eb-4293-9324-e49b34d12f53",
    "deepnote_cell_type": "code",
    "deepnote_to_be_reexecuted": false,
    "execution_millis": 16,
    "execution_start": 1617381527495,
    "source_hash": "45ad0d8c",
    "tags": []
   },
   "outputs": [],
   "source": [
    "# Create prefixes, names and suffixes for the data files.\n",
    "prefixes = ['aa_', 'mi_']\n",
    "names = ['income', 'population', 'prices']\n",
    "suffixes = '.csv'\n",
    "dfs = []\n",
    "\n",
    "# Loop the loops and load\n",
    "for pre in prefixes:\n",
    "    for nomen in names:\n",
    "        dataset = f\"{pre}{nomen}{suffixes}\"\n",
    "        vars() [f\"{pre}{nomen}\"] = pd.read_csv(dataset, \\\n",
    "                                        index_col='DATE', \\\n",
    "                                        names=['DATE', nomen], \\\n",
    "                                        header=0)\n",
    "\n"
   ]
  },
  {
   "cell_type": "markdown",
   "metadata": {
    "cell_id": "00006-3e973108-09e4-40d2-9fdd-fb743a01fdb9",
    "deepnote_cell_type": "markdown",
    "tags": []
   },
   "source": [
    " Here, we join the DFs using an 'inner' approach, so we only keep rows (_i.e._, years) for which we have all the data."
   ]
  },
  {
   "cell_type": "code",
   "execution_count": 4,
   "metadata": {
    "cell_id": "00006-684a9e19-a4c3-4124-94a2-0660ab0b15cc",
    "deepnote_cell_type": "code",
    "deepnote_to_be_reexecuted": false,
    "execution_millis": 1,
    "execution_start": 1617381527519,
    "output_cleared": false,
    "source_hash": "9765d9a8",
    "tags": []
   },
   "outputs": [],
   "source": [
    "# Don't know how to add dynamically generated variables to an iterable, so:\n",
    "\n",
    "aa_data = aa_income.join(aa_population, how='inner')\n",
    "aa_data = aa_data.join(aa_prices, how='inner')\n",
    "\n",
    "mi_data = mi_income.join(mi_population, how='inner')\n",
    "mi_data = mi_data.join(mi_prices, how='inner')\n",
    "\n",
    "data = aa_data.join(mi_data, how='inner', lsuffix='_aa', rsuffix='_mi')\n",
    "data.index = pd.to_datetime(data.index)\n"
   ]
  },
  {
   "cell_type": "markdown",
   "metadata": {
    "cell_id": "00007-75c1ee3e-c985-4d0c-b5ed-b210e56dc699",
    "deepnote_cell_type": "markdown",
    "tags": []
   },
   "source": [
    "We compute population growth as a fraction of the initial value for each of county (_i.e._, Ann Arbor) and state. Also, we present `growthdiff` as the difference in population growth percentage between `AA` (Ann Arbor) and `MI` (state of Michigan)."
   ]
  },
  {
   "cell_type": "code",
   "execution_count": 5,
   "metadata": {
    "cell_id": "00008-8b207686-a46e-4d51-b93b-f671cbc9e61a",
    "deepnote_cell_type": "code",
    "deepnote_to_be_reexecuted": false,
    "execution_millis": 0,
    "execution_start": 1617381527539,
    "source_hash": "b7645621",
    "tags": []
   },
   "outputs": [],
   "source": [
    "data['popgrowth_aa'] = data.population_aa/data.population_aa[0]\n",
    "data['popgrowth_mi'] = data.population_mi/data.population_mi[0]\n",
    "data['growthdiff'] = data.popgrowth_aa - data.popgrowth_mi\n"
   ]
  },
  {
   "cell_type": "markdown",
   "metadata": {},
   "source": [
    "This is the main plotting routine. We begin by creating a figure and a scatterplot with added functionalities (from package [`seaborn`](https://seaborn.pydata.org)) which allows one to use marker size and color as further scales for variables."
   ]
  },
  {
   "cell_type": "code",
   "execution_count": 26,
   "metadata": {
    "cell_id": "00009-1b56b26c-736e-4a68-bbd0-ef5c7584e65d",
    "deepnote_cell_type": "code",
    "deepnote_to_be_reexecuted": false,
    "execution_millis": 41,
    "execution_start": 1617381527784,
    "source_hash": "9bbea525",
    "tags": []
   },
   "outputs": [
    {
     "data": {
      "application/vnd.jupyter.widget-view+json": {
       "model_id": "0e829668e309443bae7337e6b4c08b51",
       "version_major": 2,
       "version_minor": 0
      },
      "text/plain": [
       "Canvas(toolbar=Toolbar(toolitems=[('Home', 'Reset original view', 'home', 'home'), ('Back', 'Back to previous …"
      ]
     },
     "metadata": {},
     "output_type": "display_data"
    }
   ],
   "source": [
    "\n",
    "\n",
    "size_mi = [s**3 for s in data.popgrowth_mi]\n",
    "size_aa = [s**3 for s in data.popgrowth_aa]\n",
    "\n",
    "fig2, ax2 = plt.subplots(figsize=[9, 7])\n",
    "            \n",
    "plot2 = sns.scatterplot(data=data,\n",
    "            x='income_aa',\n",
    "            y=data.prices_aa,\n",
    "            size='popgrowth_aa',\n",
    "            hue='growthdiff',\n",
    "            palette=plt.get_cmap('GnBu'),\n",
    "            sizes=(80, 800),\n",
    "            legend='brief',\n",
    "            hue_norm=(0.0,0.3)\n",
    "            )\n",
    "\n",
    "\n",
    "ax2.set_xlabel(\"Mean Yearly Income (dollars)\", fontsize=12, labelpad=10)\n",
    "ax2.set_ylabel(\"House Price Index (All Transactions) for Ann Arbor, MI\", fontsize=12, labelpad=10)\n",
    "\n",
    "\n",
    "handles, labels = plot2.get_legend_handles_labels()\n",
    "new_labels = ['Pop. Growth Rate\\nDifference vs. State\\n(approx. %)',\n",
    "              'baseline', '10%', '15%', '25%', '30%',\n",
    "              '\\nPopulation Growth\\nover Time\\n(approx. %)',\n",
    "              '5%', '10%', '20%', '30%', '35%', '40%']\n",
    "\n",
    "plt.subplots_adjust(right=0.75)\n",
    "\n",
    "# Create 'fake' twin plot sharing same y axis\n",
    "axtwin=ax2.twiny()\n",
    "# Plot indifferent data, making sure the x axis has the values we want\n",
    "# Index (i.e. dates) need to be converted in Py format\n",
    "py_index = data.index.to_pydatetime()\n",
    "\n",
    "axtwin.plot_date(data.index, 'prices_aa', data=data, fmt='none')\n",
    "\n",
    "fmt_date = mdates.DateFormatter('%Y')\n",
    "loc_date = mdates.YearLocator(5)\n",
    "\n",
    "#axtwin.set_xlim('1975-01-01', '2019-01-01')\n",
    "axtwin.xaxis.set_major_formatter(fmt_date)\n",
    "axtwin.xaxis.set_major_locator(loc_date)\n",
    "\n",
    "ax2.set_title('House Prices by Mean Income Over Time in Ann Arbor, MI', pad=12.0, fontdict={'fontsize': 18})\n",
    "\n",
    "#leg = plot2.legend_\n",
    "plt.legend(loc=2,\n",
    "           handles=handles,\n",
    "           bbox_to_anchor=(1, 1),\n",
    "           labels=new_labels,\n",
    "           markerscale=1,\n",
    "           frameon=False\n",
    "          )\n",
    "\n",
    "# Ok check out this one. Since this code comes after the second plot call\n",
    "# this legend belongs to the second (convenience) plot. However, each plot\n",
    "# creates a legend, if we call the function, so in order to keep the last one,\n",
    "# which has all these adjustments, we also have to delete the first one. This\n",
    "# is stupid.\n",
    "ax2.get_legend().remove()\n",
    "\n",
    "fig2.autofmt_xdate()\n",
    "plt.show()"
   ]
  },
  {
   "cell_type": "code",
   "execution_count": 7,
   "metadata": {},
   "outputs": [],
   "source": [
    "plt.close('all')"
   ]
  },
  {
   "cell_type": "markdown",
   "metadata": {},
   "source": [
    "The data show that, over the 1975–2020 period, house prices (expressed as an index) rose as much as the average yearly income in Ann Arbor—about 7-fold. A notable exception is the dip which preceded the 2008 subprime mortgage crisis, which shows how real estate prices fell, precipitating the situation of individuals and institutions who were invested in the market.\n",
    "\n",
    "The plot appears to be an honest representation of the situation, although there is one single data point which might result misleading: in 2007 through 2009, average income actually decreased for the first and only time in this period. The relevant markers in the plot appear to be moved to the left, which is correct if you only look at the lower `x` axis, but when looking at the upper one, they would seem to be going back in time.\n",
    "\n",
    "The color scale represents the lead over the state average in population growth. It would appear that this ratio of income _and_ house prices increase (~1) has been deemed relatively favorable, so that the population of Ann Arbor has grown significantly more than that of Michigan over these years (about 30 percentage points more).\n",
    "\n",
    "Finally, the growth of the markers parallels that of the city/county population. Overall, the population has grown ~40% in these 45 years."
   ]
  },
  {
   "cell_type": "code",
   "execution_count": null,
   "metadata": {},
   "outputs": [],
   "source": [
    "plt.gcf().clear('all')"
   ]
  },
  {
   "cell_type": "code",
   "execution_count": null,
   "metadata": {},
   "outputs": [],
   "source": [
    "\n",
    "fig, fx = plt.subplots()\n",
    "fig.autofmt_xdate()\n",
    "plt.plot(data.index, data.prices_aa)"
   ]
  },
  {
   "cell_type": "code",
   "execution_count": null,
   "metadata": {},
   "outputs": [],
   "source": [
    "plt.gcf().clear('all')"
   ]
  },
  {
   "cell_type": "code",
   "execution_count": 16,
   "metadata": {},
   "outputs": [
    {
     "data": {
      "text/plain": [
       "405"
      ]
     },
     "execution_count": 16,
     "metadata": {},
     "output_type": "execute_result"
    }
   ],
   "source": [
    "data.size"
   ]
  },
  {
   "cell_type": "code",
   "execution_count": 18,
   "metadata": {},
   "outputs": [
    {
     "name": "stdout",
     "output_type": "stream",
     "text": [
      "<class 'pandas.core.frame.DataFrame'>\n",
      "DatetimeIndex: 45 entries, 1975-01-01 to 2019-01-01\n",
      "Data columns (total 9 columns):\n",
      " #   Column         Non-Null Count  Dtype  \n",
      "---  ------         --------------  -----  \n",
      " 0   income_aa      45 non-null     int64  \n",
      " 1   population_aa  45 non-null     float64\n",
      " 2   prices_aa      45 non-null     float64\n",
      " 3   income_mi      45 non-null     float64\n",
      " 4   population_mi  45 non-null     float64\n",
      " 5   prices_mi      45 non-null     float64\n",
      " 6   popgrowth_aa   45 non-null     float64\n",
      " 7   popgrowth_mi   45 non-null     float64\n",
      " 8   growthdiff     45 non-null     float64\n",
      "dtypes: float64(8), int64(1)\n",
      "memory usage: 3.5 KB\n"
     ]
    }
   ],
   "source": [
    "data.info()"
   ]
  },
  {
   "cell_type": "code",
   "execution_count": null,
   "metadata": {},
   "outputs": [],
   "source": []
  }
 ],
 "metadata": {
  "deepnote": {
   "is_reactive": false
  },
  "deepnote_execution_queue": [],
  "deepnote_notebook_id": "307955d6-d38e-46fb-82aa-95e2bf477205",
  "kernelspec": {
   "display_name": "Python 3",
   "language": "python",
   "name": "python3"
  },
  "language_info": {
   "codemirror_mode": {
    "name": "ipython",
    "version": 3
   },
   "file_extension": ".py",
   "mimetype": "text/x-python",
   "name": "python",
   "nbconvert_exporter": "python",
   "pygments_lexer": "ipython3",
   "version": "3.9.2"
  }
 },
 "nbformat": 4,
 "nbformat_minor": 4
}
