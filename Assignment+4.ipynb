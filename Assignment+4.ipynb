{
 "cells": [
  {
   "cell_type": "markdown",
   "metadata": {},
   "source": [
    "---\n",
    "\n",
    "_You are currently looking at **version 1.1** of this notebook. To download notebooks and datafiles, as well as get help on Jupyter notebooks in the Coursera platform, visit the [Jupyter Notebook FAQ](https://www.coursera.org/learn/python-machine-learning/resources/bANLa) course resource._\n",
    "\n",
    "---"
   ]
  },
  {
   "cell_type": "markdown",
   "metadata": {},
   "source": [
    "## Assignment 4 - Understanding and Predicting Property Maintenance Fines\n",
    "\n",
    "This assignment is based on a data challenge from the Michigan Data Science Team ([MDST](http://midas.umich.edu/mdst/)). \n",
    "\n",
    "The Michigan Data Science Team ([MDST](http://midas.umich.edu/mdst/)) and the Michigan Student Symposium for Interdisciplinary Statistical Sciences ([MSSISS](https://sites.lsa.umich.edu/mssiss/)) have partnered with the City of Detroit to help solve one of the most pressing problems facing Detroit - blight. [Blight violations](http://www.detroitmi.gov/How-Do-I/Report/Blight-Complaint-FAQs) are issued by the city to individuals who allow their properties to remain in a deteriorated condition. Every year, the city of Detroit issues millions of dollars in fines to residents and every year, many of these fines remain unpaid. Enforcing unpaid blight fines is a costly and tedious process, so the city wants to know: how can we increase blight ticket compliance?\n",
    "\n",
    "The first step in answering this question is understanding when and why a resident might fail to comply with a blight ticket. This is where predictive modeling comes in. For this assignment, your task is to predict whether a given blight ticket will be paid on time.\n",
    "\n",
    "All data for this assignment has been provided to us through the [Detroit Open Data Portal](https://data.detroitmi.gov/). **Only the data already included in your Coursera directory can be used for training the model for this assignment.** Nonetheless, we encourage you to look into data from other Detroit datasets to help inform feature creation and model selection. We recommend taking a look at the following related datasets:\n",
    "\n",
    "* [Building Permits](https://data.detroitmi.gov/Property-Parcels/Building-Permits/xw2a-a7tf)\n",
    "* [Trades Permits](https://data.detroitmi.gov/Property-Parcels/Trades-Permits/635b-dsgv)\n",
    "* [Improve Detroit: Submitted Issues](https://data.detroitmi.gov/Government/Improve-Detroit-Submitted-Issues/fwz3-w3yn)\n",
    "* [DPD: Citizen Complaints](https://data.detroitmi.gov/Public-Safety/DPD-Citizen-Complaints-2016/kahe-efs3)\n",
    "* [Parcel Map](https://data.detroitmi.gov/Property-Parcels/Parcel-Map/fxkw-udwf)\n",
    "\n",
    "___\n",
    "\n",
    "We provide you with two data files for use in training and validating your models: train.csv and test.csv. Each row in these two files corresponds to a single blight ticket, and includes information about when, why, and to whom each ticket was issued. The target variable is compliance, which is True if the ticket was paid early, on time, or within one month of the hearing data, False if the ticket was paid after the hearing date or not at all, and Null if the violator was found not responsible. Compliance, as well as a handful of other variables that will not be available at test-time, are only included in train.csv.\n",
    "\n",
    "Note: All tickets where the violators were found not responsible are not considered during evaluation. They are included in the training set as an additional source of data for visualization, and to enable unsupervised and semi-supervised approaches. However, they are not included in the test set.\n",
    "\n",
    "<br>\n",
    "\n",
    "**File descriptions** (Use only this data for training your model!)\n",
    "\n",
    "    readonly/train.csv - the training set (all tickets issued 2004-2011)\n",
    "    readonly/test.csv - the test set (all tickets issued 2012-2016)\n",
    "    readonly/addresses.csv & readonly/latlons.csv - mapping from ticket id to addresses, and from addresses to lat/lon coordinates. \n",
    "     Note: misspelled addresses may be incorrectly geolocated.\n",
    "\n",
    "<br>\n",
    "\n",
    "**Data fields**\n",
    "\n",
    "train.csv & test.csv\n",
    "\n",
    "    ticket_id - unique identifier for tickets\n",
    "    agency_name - Agency that issued the ticket\n",
    "    inspector_name - Name of inspector that issued the ticket\n",
    "    violator_name - Name of the person/organization that the ticket was issued to\n",
    "    violation_street_number, violation_street_name, violation_zip_code - Address where the violation occurred\n",
    "    mailing_address_str_number, mailing_address_str_name, city, state, zip_code, non_us_str_code, country - Mailing address of the violator\n",
    "    ticket_issued_date - Date and time the ticket was issued\n",
    "    hearing_date - Date and time the violator's hearing was scheduled\n",
    "    violation_code, violation_description - Type of violation\n",
    "    disposition - Judgment and judgement type\n",
    "    fine_amount - Violation fine amount, excluding fees\n",
    "    admin_fee - $20 fee assigned to responsible judgments\n",
    "state_fee - $10 fee assigned to responsible judgments\n",
    "    late_fee - 10% fee assigned to responsible judgments\n",
    "    discount_amount - discount applied, if any\n",
    "    clean_up_cost - DPW clean-up or graffiti removal cost\n",
    "    judgment_amount - Sum of all fines and fees\n",
    "    grafitti_status - Flag for graffiti violations\n",
    "    \n",
    "train.csv only\n",
    "\n",
    "    payment_amount - Amount paid, if any\n",
    "    payment_date - Date payment was made, if it was received\n",
    "    payment_status - Current payment status as of Feb 1 2017\n",
    "    balance_due - Fines and fees still owed\n",
    "    collection_status - Flag for payments in collections\n",
    "    compliance [target variable for prediction] \n",
    "     Null = Not responsible\n",
    "     0 = Responsible, non-compliant\n",
    "     1 = Responsible, compliant\n",
    "    compliance_detail - More information on why each ticket was marked compliant or non-compliant\n",
    "\n",
    "\n",
    "___\n",
    "\n",
    "## Evaluation\n",
    "\n",
    "Your predictions will be given as the probability that the corresponding blight ticket will be paid on time.\n",
    "\n",
    "The evaluation metric for this assignment is the Area Under the ROC Curve (AUC). \n",
    "\n",
    "Your grade will be based on the AUC score computed for your classifier. A model which with an AUROC of 0.7 passes this assignment, over 0.75 will recieve full points.\n",
    "___\n",
    "\n",
    "For this assignment, create a function that trains a model to predict blight ticket compliance in Detroit using `readonly/train.csv`. Using this model, return a series of length 61001 with the data being the probability that each corresponding ticket from `readonly/test.csv` will be paid, and the index being the ticket_id.\n",
    "\n",
    "Example:\n",
    "\n",
    "    ticket_id\n",
    "       284932    0.531842\n",
    "       285362    0.401958\n",
    "       285361    0.105928\n",
    "       285338    0.018572\n",
    "                 ...\n",
    "       376499    0.208567\n",
    "       376500    0.818759\n",
    "       369851    0.018528\n",
    "       Name: compliance, dtype: float32\n",
    "       \n",
    "### Hints\n",
    "\n",
    "* Make sure your code is working before submitting it to the autograder.\n",
    "\n",
    "* Print out your result to see whether there is anything weird (e.g., all probabilities are the same).\n",
    "\n",
    "* Generally the total runtime should be less than 10 mins. You should NOT use Neural Network related classifiers (e.g., MLPClassifier) in this question. \n",
    "\n",
    "* Try to avoid global variables. If you have other functions besides blight_model, you should move those functions inside the scope of blight_model.\n",
    "\n",
    "* Refer to the pinned threads in Week 4's discussion forum when there is something you could not figure it out."
   ]
  },
  {
   "cell_type": "code",
   "execution_count": 82,
   "metadata": {
    "collapsed": false
   },
   "outputs": [],
   "source": [
    "import pandas as pd\n",
    "import numpy as np\n",
    "from sklearn.model_selection import train_test_split\n",
    "from sklearn.preprocessing import MinMaxScaler\n",
    "from sklearn.model_selection import cross_val_score\n",
    "from sklearn.linear_model import LinearRegression\n",
    "from sklearn.linear_model import LogisticRegression\n",
    "from sklearn.linear_model import Lasso\n",
    "from sklearn.ensemble import RandomForestClassifier\n",
    "from sklearn.ensemble import RandomForestRegressor\n",
    "from sklearn.ensemble import GradientBoostingClassifier\n",
    "from sklearn.linear_model import Ridge\n",
    "\n",
    "\n",
    "def blight_model():\n",
    "    df_train=pd.read_csv(\"train.csv\", encoding='cp1252')\n",
    "    df_test=pd.read_csv(\"readonly/test.csv\").set_index('ticket_id')\n",
    "    df_train=df_train.dropna(subset=['compliance'], inplace=False)\n",
    "    \n",
    "    df_add=pd.read_csv(\"readonly/addresses.csv\")\n",
    "    df_lat=pd.read_csv(\"readonly/latlons.csv\")\n",
    "\n",
    "    df_add=df_add.set_index('address').join(df_lat.set_index('address'), how='left')\n",
    "    df_add=df_add.reset_index()\n",
    "    df_add=df_add.drop_duplicates(subset=['address','lat','lon'])\n",
    "    \n",
    "    df_train=df_train.merge(df_add, how='left')\n",
    "    df_train=df_train.dropna(subset=['fine_amount', 'admin_fee', 'state_fee', 'late_fee', 'discount_amount', 'clean_up_cost', 'judgment_amount', 'address', 'lat','lon'], inplace=False)\n",
    "    df_train=df_train.drop(['agency_name', 'inspector_name', 'violator_name','violation_street_name', 'violation_zip_code', 'mailing_address_str_number', 'mailing_address_str_name', 'city'\n",
    "              , 'state', 'non_us_str_code', 'country', 'violation_description', 'payment_status', 'grafitti_status', 'compliance_detail'], axis=1)\n",
    "    \n",
    "    df_train=df_train.drop(['balance_due', 'collection_status', 'payment_amount', 'payment_date', 'judgment_amount', 'violation_street_number', 'zip_code', 'ticket_issued_date', 'hearing_date', 'disposition', 'admin_fee', 'state_fee', 'late_fee', 'discount_amount', 'clean_up_cost'], axis=1)\n",
    "    df_test=df_test.dropna(subset=['fine_amount', 'admin_fee', 'state_fee', 'late_fee', 'discount_amount', 'clean_up_cost', 'judgment_amount'], inplace=False)\n",
    "    df_test=df_test.drop(['violator_name', 'zip_code', 'country', 'city',\n",
    "            'inspector_name', 'violation_street_number', 'violation_street_name',\n",
    "            'violation_zip_code', 'violation_description',\n",
    "            'mailing_address_str_number', 'mailing_address_str_name',\n",
    "            'non_us_str_code', 'agency_name', 'state', 'disposition',\n",
    "            'ticket_issued_date', 'hearing_date', 'grafitti_status', 'violation_code'], axis=1)\n",
    "    df_test=df_test.drop(['admin_fee', 'state_fee', 'late_fee', 'discount_amount', 'clean_up_cost', 'judgment_amount'], axis=1)\n",
    "    df_test=df_test.reset_index()\n",
    "    df_test=df_test.merge(df_add, how='left')\n",
    "    df_test=df_test.set_index('ticket_id')\n",
    "    df_train=df_train.set_index('ticket_id')\n",
    "    \n",
    "    y_train=df_train['compliance']\n",
    "    X_train=df_train.drop(['compliance','violation_code','address'], axis=1)\n",
    "    \n",
    "    X_test=df_test.drop(['address'], axis=1)\n",
    "    \n",
    "    X_test.lat.fillna(method='pad', inplace=True)\n",
    "    X_test.lon.fillna(method='pad', inplace=True)\n",
    "    X_train.lat.fillna(method='pad', inplace=True)\n",
    "    X_train.lon.fillna(method='pad', inplace=True)\n",
    "    \n",
    "    scaler=MinMaxScaler()\n",
    "    \n",
    "    X_train_scaled=scaler.fit_transform(X_train)\n",
    "    X_test_scaled=scaler.fit_transform(X_test)\n",
    "    \n",
    "    lin_reg=LogisticRegression().fit(X_train_scaled, y_train)\n",
    "    \n",
    "    y_proba=lin_reg.predict_proba(X_test_scaled)\n",
    "    \n",
    "    final_df=pd.DataFrame(data=y_proba)\n",
    "    df_test=df_test.reset_index()\n",
    "    \n",
    "    final_df['ticket_id']=df_test['ticket_id']\n",
    "    final_df=final_df.set_index('ticket_id')\n",
    "    \n",
    "    final_df['compliance']=final_df[0]\n",
    "    final_df=final_df.drop([0,1], axis=1)\n",
    "    \n",
    "    return final_df.compliance# Your answer here"
   ]
  },
  {
   "cell_type": "code",
   "execution_count": 83,
   "metadata": {
    "collapsed": false
   },
   "outputs": [
    {
     "name": "stderr",
     "output_type": "stream",
     "text": [
      "/opt/conda/lib/python3.6/site-packages/IPython/core/interactiveshell.py:2827: DtypeWarning: Columns (11,12,31) have mixed types. Specify dtype option on import or set low_memory=False.\n",
      "  if self.run_code(code, result):\n"
     ]
    },
    {
     "data": {
      "text/plain": [
       "ticket_id\n",
       "284932    0.983348\n",
       "285362    0.991752\n",
       "285361    0.986944\n",
       "285338    0.946373\n",
       "285346    0.943695\n",
       "285345    0.946373\n",
       "285347    0.942309\n",
       "285342    0.946373\n",
       "285530    0.963844\n",
       "284989    0.969182\n",
       "285344    0.945083\n",
       "285343    0.965621\n",
       "285340    0.965621\n",
       "285341    0.945083\n",
       "285349    0.942825\n",
       "285348    0.945542\n",
       "284991    0.952980\n",
       "285532    0.952980\n",
       "285406    0.952980\n",
       "285001    0.952980\n",
       "285006    0.963274\n",
       "285405    0.963274\n",
       "285337    0.952980\n",
       "285496    0.941420\n",
       "285497    0.945542\n",
       "285378    0.992435\n",
       "285589    0.990232\n",
       "285585    0.988617\n",
       "285501    0.988022\n",
       "285581    0.992435\n",
       "            ...   \n",
       "376367    0.986657\n",
       "376366    0.982800\n",
       "376362    0.982800\n",
       "376363    0.982358\n",
       "376365    0.986657\n",
       "376364    0.982800\n",
       "376228    0.965410\n",
       "376265    0.983186\n",
       "376286    0.987562\n",
       "376320    0.972005\n",
       "376314    0.974660\n",
       "376327    0.974660\n",
       "376385    0.974660\n",
       "376435    0.969447\n",
       "376370    0.960813\n",
       "376434    0.986880\n",
       "376459    0.969087\n",
       "376478    0.997457\n",
       "376473    0.971321\n",
       "376484    0.972031\n",
       "376482    0.989589\n",
       "376480    0.989589\n",
       "376479    0.989589\n",
       "376481    0.989589\n",
       "376483    0.988174\n",
       "376496    0.984283\n",
       "376497    0.984283\n",
       "376499    0.982904\n",
       "376500    0.982923\n",
       "369851    0.964203\n",
       "Name: compliance, dtype: float64"
      ]
     },
     "execution_count": 83,
     "metadata": {},
     "output_type": "execute_result"
    }
   ],
   "source": [
    "blight_model()"
   ]
  },
  {
   "cell_type": "code",
   "execution_count": 1,
   "metadata": {
    "collapsed": false,
    "scrolled": false
   },
   "outputs": [
    {
     "name": "stderr",
     "output_type": "stream",
     "text": [
      "/opt/conda/lib/python3.6/site-packages/IPython/core/interactiveshell.py:2717: DtypeWarning: Columns (11,12,31) have mixed types. Specify dtype option on import or set low_memory=False.\n",
      "  interactivity=interactivity, compiler=compiler, result=result)\n"
     ]
    }
   ],
   "source": [
    "import pandas as pd\n",
    "import numpy as np\n",
    "from sklearn.model_selection import train_test_split\n",
    "\n",
    "df_train=pd.read_csv(\"train.csv\", encoding='cp1252')\n",
    "df_test=pd.read_csv(\"readonly/test.csv\").set_index('ticket_id')\n",
    "df_train=df_train.dropna(subset=['compliance'], inplace=False)"
   ]
  },
  {
   "cell_type": "code",
   "execution_count": 2,
   "metadata": {
    "collapsed": false
   },
   "outputs": [],
   "source": [
    "df_add=pd.read_csv(\"readonly/addresses.csv\")\n",
    "df_lat=pd.read_csv(\"readonly/latlons.csv\")\n",
    "\n",
    "df_add=df_add.set_index('address').join(df_lat.set_index('address'), how='left')\n",
    "df_add=df_add.reset_index()\n",
    "df_add=df_add.drop_duplicates(subset=['address','lat','lon'])"
   ]
  },
  {
   "cell_type": "code",
   "execution_count": 3,
   "metadata": {
    "collapsed": false,
    "scrolled": false
   },
   "outputs": [],
   "source": [
    "df_train=df_train.merge(df_add, how='left')"
   ]
  },
  {
   "cell_type": "code",
   "execution_count": 4,
   "metadata": {
    "collapsed": false,
    "scrolled": false
   },
   "outputs": [],
   "source": [
    "df_train=df_train.dropna(subset=['fine_amount', 'admin_fee', 'state_fee', 'late_fee', 'discount_amount', 'clean_up_cost', 'judgment_amount', 'address', 'lat','lon'], inplace=False)"
   ]
  },
  {
   "cell_type": "code",
   "execution_count": 5,
   "metadata": {
    "collapsed": false
   },
   "outputs": [],
   "source": [
    "df_train=df_train.drop(['agency_name', 'inspector_name', 'violator_name','violation_street_name', 'violation_zip_code', 'mailing_address_str_number', 'mailing_address_str_name', 'city'\n",
    "              , 'state', 'non_us_str_code', 'country', 'violation_description', 'payment_status', 'grafitti_status', 'compliance_detail'], axis=1)"
   ]
  },
  {
   "cell_type": "code",
   "execution_count": 6,
   "metadata": {
    "collapsed": false
   },
   "outputs": [],
   "source": [
    "df_train=df_train.drop(['balance_due', 'collection_status', 'payment_amount', 'payment_date', 'judgment_amount', 'violation_street_number', 'zip_code', 'ticket_issued_date', 'hearing_date', 'disposition', 'admin_fee', 'state_fee', 'late_fee', 'discount_amount', 'clean_up_cost'], axis=1)"
   ]
  },
  {
   "cell_type": "code",
   "execution_count": 7,
   "metadata": {
    "collapsed": false
   },
   "outputs": [],
   "source": [
    "df_test=df_test.dropna(subset=['fine_amount', 'admin_fee', 'state_fee', 'late_fee', 'discount_amount', 'clean_up_cost', 'judgment_amount'], inplace=False)\n",
    "df_test=df_test.drop(['violator_name', 'zip_code', 'country', 'city',\n",
    "        'inspector_name', 'violation_street_number', 'violation_street_name',\n",
    "        'violation_zip_code', 'violation_description',\n",
    "        'mailing_address_str_number', 'mailing_address_str_name',\n",
    "        'non_us_str_code', 'agency_name', 'state', 'disposition',\n",
    "        'ticket_issued_date', 'hearing_date', 'grafitti_status', 'violation_code'], axis=1)"
   ]
  },
  {
   "cell_type": "code",
   "execution_count": 8,
   "metadata": {
    "collapsed": false
   },
   "outputs": [],
   "source": [
    "df_test=df_test.drop(['admin_fee', 'state_fee', 'late_fee', 'discount_amount', 'clean_up_cost', 'judgment_amount'], axis=1)"
   ]
  },
  {
   "cell_type": "code",
   "execution_count": 9,
   "metadata": {
    "collapsed": false
   },
   "outputs": [],
   "source": [
    "df_test=df_test.reset_index()"
   ]
  },
  {
   "cell_type": "code",
   "execution_count": 10,
   "metadata": {
    "collapsed": false
   },
   "outputs": [],
   "source": [
    "df_test=df_test.merge(df_add, how='left')"
   ]
  },
  {
   "cell_type": "code",
   "execution_count": 11,
   "metadata": {
    "collapsed": false
   },
   "outputs": [],
   "source": [
    "df_test=df_test.set_index('ticket_id')\n",
    "df_train=df_train.set_index('ticket_id')"
   ]
  },
  {
   "cell_type": "code",
   "execution_count": 12,
   "metadata": {
    "collapsed": false
   },
   "outputs": [],
   "source": [
    "y_train=df_train['compliance']\n",
    "X_train=df_train.drop(['compliance','violation_code','address'], axis=1)"
   ]
  },
  {
   "cell_type": "code",
   "execution_count": 13,
   "metadata": {
    "collapsed": false
   },
   "outputs": [],
   "source": [
    "X_test=df_test.drop(['address'], axis=1)\n"
   ]
  },
  {
   "cell_type": "code",
   "execution_count": 14,
   "metadata": {
    "collapsed": false
   },
   "outputs": [],
   "source": [
    "X_test.lat.fillna(method='pad', inplace=True)"
   ]
  },
  {
   "cell_type": "code",
   "execution_count": 15,
   "metadata": {
    "collapsed": true
   },
   "outputs": [],
   "source": [
    "X_test.lon.fillna(method='pad', inplace=True)"
   ]
  },
  {
   "cell_type": "code",
   "execution_count": 16,
   "metadata": {
    "collapsed": false
   },
   "outputs": [],
   "source": [
    "X_train.lat.fillna(method='pad', inplace=True)"
   ]
  },
  {
   "cell_type": "code",
   "execution_count": 17,
   "metadata": {
    "collapsed": true
   },
   "outputs": [],
   "source": [
    "X_train.lon.fillna(method='pad', inplace=True)"
   ]
  },
  {
   "cell_type": "code",
   "execution_count": 18,
   "metadata": {
    "collapsed": false
   },
   "outputs": [],
   "source": [
    "from sklearn.preprocessing import MinMaxScaler"
   ]
  },
  {
   "cell_type": "code",
   "execution_count": 19,
   "metadata": {
    "collapsed": true
   },
   "outputs": [],
   "source": [
    "scaler=MinMaxScaler()"
   ]
  },
  {
   "cell_type": "code",
   "execution_count": 20,
   "metadata": {
    "collapsed": false
   },
   "outputs": [],
   "source": [
    "X_train_scaled=scaler.fit_transform(X_train)\n",
    "X_test_scaled=scaler.fit_transform(X_test)"
   ]
  },
  {
   "cell_type": "code",
   "execution_count": 35,
   "metadata": {
    "collapsed": false
   },
   "outputs": [
    {
     "name": "stdout",
     "output_type": "stream",
     "text": [
      "Cross Validation scores for Logistic Regression 0.9007559916358371\n",
      "Cross Validation scores for Random Class 0.8691651922148946\n",
      "Cross Validation scores for GradBoost 0.9006433971368827\n",
      "Cross Validation scores for Random Regressor -0.2260455443289588\n"
     ]
    }
   ],
   "source": [
    "from sklearn.model_selection import cross_val_score\n",
    "from sklearn.linear_model import LinearRegression\n",
    "from sklearn.linear_model import LogisticRegression\n",
    "from sklearn.linear_model import Lasso\n",
    "from sklearn.ensemble import RandomForestClassifier\n",
    "from sklearn.ensemble import RandomForestRegressor\n",
    "from sklearn.ensemble import GradientBoostingClassifier\n",
    "from sklearn.linear_model import Ridge\n",
    "\n",
    "logreg=LogisticRegression()\n",
    "rand=RandomForestClassifier(n_estimators=5, random_state=0)\n",
    "grad=GradientBoostingClassifier(random_state=0)\n",
    "rand_reg=RandomForestRegressor()\n",
    "\n",
    "score_logreg=cross_val_score(logreg, X_train, y_train, cv=5)\n",
    "score_rand=cross_val_score(rand, X_train, y_train, cv=5)\n",
    "score_grad=cross_val_score(grad, X_train, y_train, cv=5)\n",
    "score_rand_reg=cross_val_score(rand_reg, X_train, y_train, cv=5)\n",
    "\n",
    "print(\"Cross Validation scores for Logistic Regression {}\".format(score_logreg.mean()))\n",
    "print(\"Cross Validation scores for Random Class {}\".format(score_rand.mean()))\n",
    "print(\"Cross Validation scores for GradBoost {}\".format(score_grad.mean()))\n",
    "print(\"Cross Validation scores for Random Regressor {}\".format(score_rand_reg.mean()))\n"
   ]
  },
  {
   "cell_type": "code",
   "execution_count": 69,
   "metadata": {
    "collapsed": false
   },
   "outputs": [],
   "source": [
    "lin_reg=LogisticRegression().fit(X_train_scaled, y_train)\n",
    "y_proba=lin_reg.predict_proba(X_test_scaled)"
   ]
  },
  {
   "cell_type": "code",
   "execution_count": 76,
   "metadata": {
    "collapsed": false
   },
   "outputs": [],
   "source": [
    "final_df=pd.DataFrame(data=y_proba)\n",
    "final_df['ticket_id']=df_test['ticket_id']"
   ]
  },
  {
   "cell_type": "code",
   "execution_count": 77,
   "metadata": {
    "collapsed": false
   },
   "outputs": [],
   "source": [
    "final_df=final_df.set_index('ticket_id')"
   ]
  },
  {
   "cell_type": "code",
   "execution_count": null,
   "metadata": {
    "collapsed": false
   },
   "outputs": [],
   "source": []
  },
  {
   "cell_type": "code",
   "execution_count": 78,
   "metadata": {
    "collapsed": false
   },
   "outputs": [
    {
     "data": {
      "text/html": [
       "<div>\n",
       "<table border=\"1\" class=\"dataframe\">\n",
       "  <thead>\n",
       "    <tr style=\"text-align: right;\">\n",
       "      <th></th>\n",
       "      <th>0</th>\n",
       "      <th>1</th>\n",
       "    </tr>\n",
       "    <tr>\n",
       "      <th>ticket_id</th>\n",
       "      <th></th>\n",
       "      <th></th>\n",
       "    </tr>\n",
       "  </thead>\n",
       "  <tbody>\n",
       "    <tr>\n",
       "      <th>284932</th>\n",
       "      <td>0.983348</td>\n",
       "      <td>0.016652</td>\n",
       "    </tr>\n",
       "    <tr>\n",
       "      <th>285362</th>\n",
       "      <td>0.991752</td>\n",
       "      <td>0.008248</td>\n",
       "    </tr>\n",
       "    <tr>\n",
       "      <th>285361</th>\n",
       "      <td>0.986944</td>\n",
       "      <td>0.013056</td>\n",
       "    </tr>\n",
       "    <tr>\n",
       "      <th>285338</th>\n",
       "      <td>0.946373</td>\n",
       "      <td>0.053627</td>\n",
       "    </tr>\n",
       "    <tr>\n",
       "      <th>285346</th>\n",
       "      <td>0.943695</td>\n",
       "      <td>0.056305</td>\n",
       "    </tr>\n",
       "  </tbody>\n",
       "</table>\n",
       "</div>"
      ],
      "text/plain": [
       "                  0         1\n",
       "ticket_id                    \n",
       "284932     0.983348  0.016652\n",
       "285362     0.991752  0.008248\n",
       "285361     0.986944  0.013056\n",
       "285338     0.946373  0.053627\n",
       "285346     0.943695  0.056305"
      ]
     },
     "execution_count": 78,
     "metadata": {},
     "output_type": "execute_result"
    }
   ],
   "source": [
    "final_df.head()"
   ]
  },
  {
   "cell_type": "code",
   "execution_count": 81,
   "metadata": {
    "collapsed": false
   },
   "outputs": [
    {
     "data": {
      "text/html": [
       "<div>\n",
       "<table border=\"1\" class=\"dataframe\">\n",
       "  <thead>\n",
       "    <tr style=\"text-align: right;\">\n",
       "      <th></th>\n",
       "      <th>compliance</th>\n",
       "    </tr>\n",
       "    <tr>\n",
       "      <th>ticket_id</th>\n",
       "      <th></th>\n",
       "    </tr>\n",
       "  </thead>\n",
       "  <tbody>\n",
       "    <tr>\n",
       "      <th>284932</th>\n",
       "      <td>0.983348</td>\n",
       "    </tr>\n",
       "    <tr>\n",
       "      <th>285362</th>\n",
       "      <td>0.991752</td>\n",
       "    </tr>\n",
       "    <tr>\n",
       "      <th>285361</th>\n",
       "      <td>0.986944</td>\n",
       "    </tr>\n",
       "    <tr>\n",
       "      <th>285338</th>\n",
       "      <td>0.946373</td>\n",
       "    </tr>\n",
       "    <tr>\n",
       "      <th>285346</th>\n",
       "      <td>0.943695</td>\n",
       "    </tr>\n",
       "    <tr>\n",
       "      <th>285345</th>\n",
       "      <td>0.946373</td>\n",
       "    </tr>\n",
       "    <tr>\n",
       "      <th>285347</th>\n",
       "      <td>0.942309</td>\n",
       "    </tr>\n",
       "    <tr>\n",
       "      <th>285342</th>\n",
       "      <td>0.946373</td>\n",
       "    </tr>\n",
       "    <tr>\n",
       "      <th>285530</th>\n",
       "      <td>0.963844</td>\n",
       "    </tr>\n",
       "    <tr>\n",
       "      <th>284989</th>\n",
       "      <td>0.969182</td>\n",
       "    </tr>\n",
       "    <tr>\n",
       "      <th>285344</th>\n",
       "      <td>0.945083</td>\n",
       "    </tr>\n",
       "    <tr>\n",
       "      <th>285343</th>\n",
       "      <td>0.965621</td>\n",
       "    </tr>\n",
       "    <tr>\n",
       "      <th>285340</th>\n",
       "      <td>0.965621</td>\n",
       "    </tr>\n",
       "    <tr>\n",
       "      <th>285341</th>\n",
       "      <td>0.945083</td>\n",
       "    </tr>\n",
       "    <tr>\n",
       "      <th>285349</th>\n",
       "      <td>0.942825</td>\n",
       "    </tr>\n",
       "    <tr>\n",
       "      <th>285348</th>\n",
       "      <td>0.945542</td>\n",
       "    </tr>\n",
       "    <tr>\n",
       "      <th>284991</th>\n",
       "      <td>0.952980</td>\n",
       "    </tr>\n",
       "    <tr>\n",
       "      <th>285532</th>\n",
       "      <td>0.952980</td>\n",
       "    </tr>\n",
       "    <tr>\n",
       "      <th>285406</th>\n",
       "      <td>0.952980</td>\n",
       "    </tr>\n",
       "    <tr>\n",
       "      <th>285001</th>\n",
       "      <td>0.952980</td>\n",
       "    </tr>\n",
       "    <tr>\n",
       "      <th>285006</th>\n",
       "      <td>0.963274</td>\n",
       "    </tr>\n",
       "    <tr>\n",
       "      <th>285405</th>\n",
       "      <td>0.963274</td>\n",
       "    </tr>\n",
       "    <tr>\n",
       "      <th>285337</th>\n",
       "      <td>0.952980</td>\n",
       "    </tr>\n",
       "    <tr>\n",
       "      <th>285496</th>\n",
       "      <td>0.941420</td>\n",
       "    </tr>\n",
       "    <tr>\n",
       "      <th>285497</th>\n",
       "      <td>0.945542</td>\n",
       "    </tr>\n",
       "    <tr>\n",
       "      <th>285378</th>\n",
       "      <td>0.992435</td>\n",
       "    </tr>\n",
       "    <tr>\n",
       "      <th>285589</th>\n",
       "      <td>0.990232</td>\n",
       "    </tr>\n",
       "    <tr>\n",
       "      <th>285585</th>\n",
       "      <td>0.988617</td>\n",
       "    </tr>\n",
       "    <tr>\n",
       "      <th>285501</th>\n",
       "      <td>0.988022</td>\n",
       "    </tr>\n",
       "    <tr>\n",
       "      <th>285581</th>\n",
       "      <td>0.992435</td>\n",
       "    </tr>\n",
       "    <tr>\n",
       "      <th>...</th>\n",
       "      <td>...</td>\n",
       "    </tr>\n",
       "    <tr>\n",
       "      <th>376367</th>\n",
       "      <td>0.986657</td>\n",
       "    </tr>\n",
       "    <tr>\n",
       "      <th>376366</th>\n",
       "      <td>0.982800</td>\n",
       "    </tr>\n",
       "    <tr>\n",
       "      <th>376362</th>\n",
       "      <td>0.982800</td>\n",
       "    </tr>\n",
       "    <tr>\n",
       "      <th>376363</th>\n",
       "      <td>0.982358</td>\n",
       "    </tr>\n",
       "    <tr>\n",
       "      <th>376365</th>\n",
       "      <td>0.986657</td>\n",
       "    </tr>\n",
       "    <tr>\n",
       "      <th>376364</th>\n",
       "      <td>0.982800</td>\n",
       "    </tr>\n",
       "    <tr>\n",
       "      <th>376228</th>\n",
       "      <td>0.965410</td>\n",
       "    </tr>\n",
       "    <tr>\n",
       "      <th>376265</th>\n",
       "      <td>0.983186</td>\n",
       "    </tr>\n",
       "    <tr>\n",
       "      <th>376286</th>\n",
       "      <td>0.987562</td>\n",
       "    </tr>\n",
       "    <tr>\n",
       "      <th>376320</th>\n",
       "      <td>0.972005</td>\n",
       "    </tr>\n",
       "    <tr>\n",
       "      <th>376314</th>\n",
       "      <td>0.974660</td>\n",
       "    </tr>\n",
       "    <tr>\n",
       "      <th>376327</th>\n",
       "      <td>0.974660</td>\n",
       "    </tr>\n",
       "    <tr>\n",
       "      <th>376385</th>\n",
       "      <td>0.974660</td>\n",
       "    </tr>\n",
       "    <tr>\n",
       "      <th>376435</th>\n",
       "      <td>0.969447</td>\n",
       "    </tr>\n",
       "    <tr>\n",
       "      <th>376370</th>\n",
       "      <td>0.960813</td>\n",
       "    </tr>\n",
       "    <tr>\n",
       "      <th>376434</th>\n",
       "      <td>0.986880</td>\n",
       "    </tr>\n",
       "    <tr>\n",
       "      <th>376459</th>\n",
       "      <td>0.969087</td>\n",
       "    </tr>\n",
       "    <tr>\n",
       "      <th>376478</th>\n",
       "      <td>0.997457</td>\n",
       "    </tr>\n",
       "    <tr>\n",
       "      <th>376473</th>\n",
       "      <td>0.971321</td>\n",
       "    </tr>\n",
       "    <tr>\n",
       "      <th>376484</th>\n",
       "      <td>0.972031</td>\n",
       "    </tr>\n",
       "    <tr>\n",
       "      <th>376482</th>\n",
       "      <td>0.989589</td>\n",
       "    </tr>\n",
       "    <tr>\n",
       "      <th>376480</th>\n",
       "      <td>0.989589</td>\n",
       "    </tr>\n",
       "    <tr>\n",
       "      <th>376479</th>\n",
       "      <td>0.989589</td>\n",
       "    </tr>\n",
       "    <tr>\n",
       "      <th>376481</th>\n",
       "      <td>0.989589</td>\n",
       "    </tr>\n",
       "    <tr>\n",
       "      <th>376483</th>\n",
       "      <td>0.988174</td>\n",
       "    </tr>\n",
       "    <tr>\n",
       "      <th>376496</th>\n",
       "      <td>0.984283</td>\n",
       "    </tr>\n",
       "    <tr>\n",
       "      <th>376497</th>\n",
       "      <td>0.984283</td>\n",
       "    </tr>\n",
       "    <tr>\n",
       "      <th>376499</th>\n",
       "      <td>0.982904</td>\n",
       "    </tr>\n",
       "    <tr>\n",
       "      <th>376500</th>\n",
       "      <td>0.982923</td>\n",
       "    </tr>\n",
       "    <tr>\n",
       "      <th>369851</th>\n",
       "      <td>0.964203</td>\n",
       "    </tr>\n",
       "  </tbody>\n",
       "</table>\n",
       "<p>61001 rows × 1 columns</p>\n",
       "</div>"
      ],
      "text/plain": [
       "           compliance\n",
       "ticket_id            \n",
       "284932       0.983348\n",
       "285362       0.991752\n",
       "285361       0.986944\n",
       "285338       0.946373\n",
       "285346       0.943695\n",
       "285345       0.946373\n",
       "285347       0.942309\n",
       "285342       0.946373\n",
       "285530       0.963844\n",
       "284989       0.969182\n",
       "285344       0.945083\n",
       "285343       0.965621\n",
       "285340       0.965621\n",
       "285341       0.945083\n",
       "285349       0.942825\n",
       "285348       0.945542\n",
       "284991       0.952980\n",
       "285532       0.952980\n",
       "285406       0.952980\n",
       "285001       0.952980\n",
       "285006       0.963274\n",
       "285405       0.963274\n",
       "285337       0.952980\n",
       "285496       0.941420\n",
       "285497       0.945542\n",
       "285378       0.992435\n",
       "285589       0.990232\n",
       "285585       0.988617\n",
       "285501       0.988022\n",
       "285581       0.992435\n",
       "...               ...\n",
       "376367       0.986657\n",
       "376366       0.982800\n",
       "376362       0.982800\n",
       "376363       0.982358\n",
       "376365       0.986657\n",
       "376364       0.982800\n",
       "376228       0.965410\n",
       "376265       0.983186\n",
       "376286       0.987562\n",
       "376320       0.972005\n",
       "376314       0.974660\n",
       "376327       0.974660\n",
       "376385       0.974660\n",
       "376435       0.969447\n",
       "376370       0.960813\n",
       "376434       0.986880\n",
       "376459       0.969087\n",
       "376478       0.997457\n",
       "376473       0.971321\n",
       "376484       0.972031\n",
       "376482       0.989589\n",
       "376480       0.989589\n",
       "376479       0.989589\n",
       "376481       0.989589\n",
       "376483       0.988174\n",
       "376496       0.984283\n",
       "376497       0.984283\n",
       "376499       0.982904\n",
       "376500       0.982923\n",
       "369851       0.964203\n",
       "\n",
       "[61001 rows x 1 columns]"
      ]
     },
     "execution_count": 81,
     "metadata": {},
     "output_type": "execute_result"
    }
   ],
   "source": [
    "final_df['compliance']=final_df[0]\n",
    "final_df=final_df.drop([0,1], axis=1)\n",
    "final_df"
   ]
  },
  {
   "cell_type": "code",
   "execution_count": null,
   "metadata": {
    "collapsed": true
   },
   "outputs": [],
   "source": []
  }
 ],
 "metadata": {
  "coursera": {
   "course_slug": "python-machine-learning",
   "graded_item_id": "nNS8l",
   "launcher_item_id": "yWWk7",
   "part_id": "w8BSS"
  },
  "kernelspec": {
   "display_name": "Python 3",
   "language": "python",
   "name": "python3"
  },
  "language_info": {
   "codemirror_mode": {
    "name": "ipython",
    "version": 3
   },
   "file_extension": ".py",
   "mimetype": "text/x-python",
   "name": "python",
   "nbconvert_exporter": "python",
   "pygments_lexer": "ipython3",
   "version": "3.6.2"
  }
 },
 "nbformat": 4,
 "nbformat_minor": 2
}
