{
 "cells": [
  {
   "cell_type": "code",
   "execution_count": 1,
   "metadata": {},
   "outputs": [],
   "source": [
    "import pandas as pd\n",
    "import numpy as np\n",
    "import matplotlib.pyplot as plt\n",
    "import seaborn as sns"
   ]
  },
  {
   "cell_type": "code",
   "execution_count": 2,
   "metadata": {},
   "outputs": [],
   "source": [
    "employment = pd.read_csv('SYB63_200_202009_Employment.csv')\n",
    "labor_force = pd.read_csv('SYB63_329_202009_Labour Force and Unemployment.csv')"
   ]
  },
  {
   "cell_type": "code",
   "execution_count": 3,
   "metadata": {},
   "outputs": [],
   "source": [
    "#Clean header of employment datasets\n",
    "header1 = employment.iloc[0]\n",
    "employment = employment[1:]\n",
    "employment.columns = header1"
   ]
  },
  {
   "cell_type": "code",
   "execution_count": 4,
   "metadata": {},
   "outputs": [],
   "source": [
    "#Rename columns in employment dataset\n",
    "employment.rename(columns={'Region/Country/Area':'Code',np.nan:'Region/Country'}, inplace=True)"
   ]
  },
  {
   "cell_type": "code",
   "execution_count": 5,
   "metadata": {},
   "outputs": [],
   "source": [
    "#To split series column\n",
    "employment['Series'] = employment['Series'].apply(lambda x: x.split(':')[1])"
   ]
  },
  {
   "cell_type": "code",
   "execution_count": 6,
   "metadata": {},
   "outputs": [],
   "source": [
    "#Clean header of labor_force dataset\n",
    "header2 = labor_force.iloc[0]\n",
    "labor_force = labor_force[1:]\n",
    "labor_force.columns = header2"
   ]
  },
  {
   "cell_type": "code",
   "execution_count": 7,
   "metadata": {},
   "outputs": [],
   "source": [
    "#Rename columns in labor force dataset\n",
    "labor_force.rename(columns={'Region/Country/Area':'Code', np.nan:'Region/Country'}, inplace=True)"
   ]
  },
  {
   "cell_type": "code",
   "execution_count": 8,
   "metadata": {},
   "outputs": [],
   "source": [
    "#To concatenate employment and labor_force datasets\n",
    "dataset = pd.concat([employment, labor_force])"
   ]
  },
  {
   "cell_type": "code",
   "execution_count": 9,
   "metadata": {},
   "outputs": [],
   "source": [
    "#To remove unnecessary columns\n",
    "dataset = dataset[['Code','Region/Country','Series','Year','Value']]"
   ]
  },
  {
   "cell_type": "code",
   "execution_count": 10,
   "metadata": {},
   "outputs": [],
   "source": [
    "#Convert value column to float\n",
    "dataset['Value'] = dataset['Value'].astype(float)\n",
    "dataset['Series'] = dataset['Series'].astype(str)\n",
    "\n",
    "#Remove unnecessary space in Series column\n",
    "dataset['Series'] = dataset['Series'].str.strip()"
   ]
  },
  {
   "cell_type": "code",
   "execution_count": 11,
   "metadata": {},
   "outputs": [],
   "source": [
    "#dataset for asian countries\n",
    "asian = dataset.loc[dataset['Region/Country'].str.contains('asia',case=False)]"
   ]
  },
  {
   "cell_type": "code",
   "execution_count": 12,
   "metadata": {},
   "outputs": [],
   "source": [
    "df1 = asian[(asian['Year']=='2020') & ((asian['Series']=='Labour force participation - Total') | (asian['Series']=='Unemployment rate - Total'))]"
   ]
  },
  {
   "cell_type": "code",
   "execution_count": 13,
   "metadata": {},
   "outputs": [],
   "source": [
    "df2 =asian[(asian['Year']=='2020') & \n",
    "           ((asian['Series']=='Agriculture (%) Male and Female')|\n",
    "            (asian['Series']=='Industry (%) Male and Female')|\n",
    "            (asian['Series']=='Services (%) Male and Female')\n",
    "           )]"
   ]
  },
  {
   "cell_type": "code",
   "execution_count": 14,
   "metadata": {},
   "outputs": [
    {
     "data": {
      "image/png": "[encoded data removed]",
      "text/plain": [
       "<Figure size 864x360 with 2 Axes>"
      ]
     },
     "metadata": {
      "needs_background": "light"
     },
     "output_type": "display_data"
    }
   ],
   "source": [
    "fig, ax = plt.subplots(1,2, figsize=(12,5), sharey='row')\n",
    "fig.suptitle('Asian Labour Market in 2020', position=(0.5,1.05), fontsize=18, fontweight='bold')\n",
    "sns.set_style('whitegrid')\n",
    "sns.despine(left=True, bottom=True)\n",
    "\n",
    "sns.barplot(x='Region/Country', y='Value', hue='Series', ci=None, palette='deep', data=df1, ax=ax[0])\n",
    "ax[0].set_title('Labor Force and Unemployment')\n",
    "ax[0].set_xlabel('Region', fontsize=15)\n",
    "ax[0].set_ylabel('Percent Rate')\n",
    "ax[0].set_xticks([0,1,2,3,4])\n",
    "ax[0].set_xticklabels(['Central', 'East', 'South-East', 'South', 'West'], fontsize=12)\n",
    "ax[0].legend(['Labor Force', 'Unemployment'], loc=0, frameon=False)\n",
    "\n",
    "sns.barplot(x='Region/Country', y='Value', hue='Series', ci=None, palette='deep', data=df2, ax=ax[1])\n",
    "ax[1].set_title('Employment by Economic Activity')\n",
    "ax[1].set_xlabel('Region', fontsize=15)\n",
    "ax[1].set_ylabel('Percent Rate')\n",
    "ax[1].set_xticks([0,1,2,3,4])\n",
    "ax[1].set_xticklabels(['Central', 'East', 'South-East', 'South', 'West'], fontsize=12)\n",
    "ax[1].legend(['Agriculture','Industry', 'Services'], loc=0, frameon=False)\n",
    "\n",
    "fig.tight_layout()"
   ]
  },
  {
   "cell_type": "code",
   "execution_count": null,
   "metadata": {},
   "outputs": [],
   "source": []
  },
  {
   "cell_type": "code",
   "execution_count": null,
   "metadata": {},
   "outputs": [],
   "source": []
  },
  {
   "cell_type": "code",
   "execution_count": null,
   "metadata": {},
   "outputs": [],
   "source": []
  },
  {
   "cell_type": "code",
   "execution_count": null,
   "metadata": {},
   "outputs": [],
   "source": []
  },
  {
   "cell_type": "code",
   "execution_count": null,
   "metadata": {},
   "outputs": [],
   "source": []
  },
  {
   "cell_type": "code",
   "execution_count": null,
   "metadata": {},
   "outputs": [],
   "source": []
  },
  {
   "cell_type": "code",
   "execution_count": null,
   "metadata": {},
   "outputs": [],
   "source": []
  },
  {
   "cell_type": "code",
   "execution_count": null,
   "metadata": {},
   "outputs": [],
   "source": []
  },
  {
   "cell_type": "code",
   "execution_count": null,
   "metadata": {},
   "outputs": [],
   "source": []
  },
  {
   "cell_type": "code",
   "execution_count": null,
   "metadata": {},
   "outputs": [],
   "source": []
  },
  {
   "cell_type": "code",
   "execution_count": null,
   "metadata": {},
   "outputs": [],
   "source": []
  }
 ],
 "metadata": {
  "kernelspec": {
   "display_name": "Python 3",
   "language": "python",
   "name": "python3"
  },
  "language_info": {
   "codemirror_mode": {
    "name": "ipython",
    "version": 3
   },
   "file_extension": ".py",
   "mimetype": "text/x-python",
   "name": "python",
   "nbconvert_exporter": "python",
   "pygments_lexer": "ipython3",
   "version": "3.7.3"
  }
 },
 "nbformat": 4,
 "nbformat_minor": 2
}
